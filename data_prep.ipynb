{
 "cells": [
  {
   "cell_type": "code",
   "execution_count": 3,
   "metadata": {},
   "outputs": [],
   "source": [
    "import numpy as np \n",
    "import os\n",
    "import pandas as pd\n",
    "from ast import literal_eval\n",
    "\n",
    "def get_csv(load_filename, data_dir=None):\n",
    "    if data_dir is None:\n",
    "        data_dir = os.getcwd()\n",
    "    for dirname, _, filenames in os.walk(data_dir):\n",
    "        filepath = None\n",
    "        if load_filename in filenames:\n",
    "            filepath = os.path.join(dirname, load_filename)\n",
    "            return pd.read_csv(filepath)\n",
    "    print(f\"No such file {load_filename}\")\n",
    "    return None"
   ]
  },
  {
   "cell_type": "code",
   "execution_count": 4,
   "metadata": {},
   "outputs": [],
   "source": [
    "os.mkdir(\"movies_data\")"
   ]
  },
  {
   "cell_type": "code",
   "execution_count": 25,
   "metadata": {},
   "outputs": [],
   "source": [
    "movies = get_csv(\"movies_metadata.csv\")\n",
    "movies = movies[movies.id.apply(\n",
    "    lambda x: x.isnumeric()\n",
    ")] # keeps only numeric ids\n",
    "movies.dropna(subset=[\"original_language\",\n",
    "                      \"original_title\",\n",
    "                      \"overview\",\n",
    "                      \"release_date\",\n",
    "                      \"revenue\",\n",
    "                      \"runtime\",\n",
    "                      \"title\",\n",
    "                      \"vote_average\",\n",
    "                      \"vote_count\"], \n",
    "              inplace=True) # drop na values from features with only a few nas (<0.01%)\n",
    "# remove odd few duplicate ids\n",
    "movies.drop_duplicates(subset=[\"id\"], inplace=True)\n",
    "movies.drop([\"adult\", \n",
    "             \"belongs_to_collection\", \n",
    "             \"homepage\", \n",
    "             \"imdb_id\", \n",
    "             \"popularity\",  \n",
    "             \"poster_path\",  \n",
    "             \"status\", \n",
    "             \"production_companies\", \n",
    "             \"production_countries\",  \n",
    "             \"spoken_languages\",  \n",
    "             \"video\",\n",
    "             \"vote_average\",\n",
    "             \"vote_count\"], \n",
    "            axis=1, \n",
    "            inplace=True) # drop boring/nonsense features that complicate process\n",
    "features = ['id', 'title', 'original_title', 'runtime', 'budget', \n",
    "            'genres', 'original_language',  'overview', 'release_date', \n",
    "            'revenue', 'tagline']\n",
    "movies[features].to_csv(\"movies_data/movies.csv\", index=False)"
   ]
  },
  {
   "cell_type": "code",
   "execution_count": 21,
   "metadata": {},
   "outputs": [
    {
     "name": "stdout",
     "output_type": "stream",
     "text": [
      "<class 'pandas.core.frame.DataFrame'>\n",
      "Int64Index: 44395 entries, 0 to 45465\n",
      "Data columns (total 13 columns):\n",
      "id                   44395 non-null object\n",
      "title                44395 non-null object\n",
      "original_title       44395 non-null object\n",
      "runtime              44395 non-null float64\n",
      "budget               44395 non-null object\n",
      "genres               44395 non-null object\n",
      "original_language    44395 non-null object\n",
      "overview             44395 non-null object\n",
      "release_date         44395 non-null object\n",
      "revenue              44395 non-null float64\n",
      "tagline              20379 non-null object\n",
      "vote_average         44395 non-null float64\n",
      "vote_count           44395 non-null float64\n",
      "dtypes: float64(4), object(9)\n",
      "memory usage: 4.7+ MB\n"
     ]
    }
   ],
   "source": [
    "movies[features].info()"
   ]
  },
  {
   "cell_type": "code",
   "execution_count": 10,
   "metadata": {},
   "outputs": [
    {
     "data": {
      "text/plain": [
       "Index(['budget', 'genres', 'id', 'original_language', 'original_title',\n",
       "       'overview', 'release_date', 'revenue', 'runtime', 'tagline', 'title',\n",
       "       'vote_average', 'vote_count'],\n",
       "      dtype='object')"
      ]
     },
     "execution_count": 10,
     "metadata": {},
     "output_type": "execute_result"
    }
   ],
   "source": [
    "movies.columns"
   ]
  },
  {
   "cell_type": "code",
   "execution_count": 16,
   "metadata": {},
   "outputs": [],
   "source": [
    "ratings = get_csv(\"ratings.csv\", \"3405_6663_bundle_archive\")       \n",
    "links = get_csv(\"links.csv\", \"3405_6663_bundle_archive\")\n",
    "\n",
    "# ratings is only table to use movieId - all other tables use tmbdid / imdb\n",
    "# liks table required to match movieId to tmdb / imdb ids\n",
    "# merge tmdbid into ratings table so links can be dropped\n",
    "\n",
    "ratings = ratings.merge(links[[\"movieId\",\"tmdbId\"]],\n",
    "                        on = \"movieId\",\n",
    "                        how = \"left\")\n",
    "ratings.dropna(subset=[\"tmdbId\"], inplace=True)\n",
    "ratings = (ratings.drop(\"movieId\", axis=1)\n",
    "           .rename(columns={\"tmdbId\":\"movie_id\", \n",
    "                            \"userId\":\"user_id\"})\n",
    ")\n",
    "movie_ids = movies.id.values\n",
    "ratings = ratings[ratings.movie_id.isin(movie_ids)]\n",
    "# 125 users submit > 1 reviews for same movie - get rid of these\n",
    "ratings.drop_duplicates(subset=[\"user_id\", \"movie_id\"],\n",
    "                        inplace=True)\n",
    "ratings.to_csv(\"movies_data/ratings.csv\", index=False)"
   ]
  },
  {
   "cell_type": "code",
   "execution_count": 22,
   "metadata": {},
   "outputs": [
    {
     "data": {
      "text/plain": [
       "4.0    6987136\n",
       "3.0    5250214\n",
       "5.0    3802850\n",
       "3.5    3110389\n",
       "4.5    2164785\n",
       "2.0    1760011\n",
       "2.5    1253195\n",
       "1.0     841787\n",
       "0.5     403511\n",
       "1.5     402876\n",
       "Name: rating, dtype: int64"
      ]
     },
     "execution_count": 22,
     "metadata": {},
     "output_type": "execute_result"
    }
   ],
   "source": [
    "ratings.rating.value_counts()"
   ]
  },
  {
   "cell_type": "code",
   "execution_count": 18,
   "metadata": {},
   "outputs": [],
   "source": [
    "credits = get_csv(\"credits.csv\")\n",
    "credits = (credits[[\"id\", \"cast\"]]\n",
    "           .rename(columns={\"id\":\"movie_id\", \n",
    "                            \"cast\":\"credits\"}))\n",
    "credits.to_csv(\"movies_data/credits.csv\", index=False)"
   ]
  },
  {
   "cell_type": "code",
   "execution_count": null,
   "metadata": {},
   "outputs": [],
   "source": []
  }
 ],
 "metadata": {
  "kernelspec": {
   "display_name": "Python [conda env:root] *",
   "language": "python",
   "name": "conda-root-py"
  },
  "language_info": {
   "codemirror_mode": {
    "name": "ipython",
    "version": 3
   },
   "file_extension": ".py",
   "mimetype": "text/x-python",
   "name": "python",
   "nbconvert_exporter": "python",
   "pygments_lexer": "ipython3",
   "version": "3.7.4"
  }
 },
 "nbformat": 4,
 "nbformat_minor": 4
}
